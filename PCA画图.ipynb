{
 "cells": [
  {
   "cell_type": "code",
   "execution_count": 13,
   "metadata": {},
   "outputs": [],
   "source": [
    "import numpy as np\n",
    "import pandas as pd"
   ]
  },
  {
   "cell_type": "code",
   "execution_count": 27,
   "metadata": {},
   "outputs": [],
   "source": [
    "data = pd.read_excel(\"train(1).xlsx\")"
   ]
  },
  {
   "cell_type": "code",
   "execution_count": 28,
   "metadata": {},
   "outputs": [
    {
     "data": {
      "text/plain": [
       "Index(['污水厂采样点', 'EC50', '线虫体长', '线虫体宽', '线虫体面积', '线虫波长', '线虫振幅', '线虫最大振幅',\n",
       "       '线虫摆动频率', '线虫游动速度 ', '线虫活力', '12hSurvivalREF0.25', '72hhatchingREF0.25',\n",
       "       '72hmarREF0.25', '120hmarREF0.25', '12hSurvivalREF0.5',\n",
       "       '72hhatchingREF0.5', '72hmarREF0.5', '120hmarREF0.5', '12hSurvivalREF1',\n",
       "       '72hhatchingREF1', '72hmarREF1', '120hmarREF1', '12hSurvivalREF2',\n",
       "       '72hhatchingREF2', '72hmarREF2', '120hmarREF2', '常住人口/万人'],\n",
       "      dtype='object')"
      ]
     },
     "execution_count": 28,
     "metadata": {},
     "output_type": "execute_result"
    }
   ],
   "source": [
    "data.columns"
   ]
  },
  {
   "cell_type": "code",
   "execution_count": 29,
   "metadata": {},
   "outputs": [],
   "source": [
    "# data.describe()"
   ]
  },
  {
   "cell_type": "code",
   "execution_count": 30,
   "metadata": {},
   "outputs": [],
   "source": [
    "# data.info()"
   ]
  },
  {
   "cell_type": "code",
   "execution_count": 31,
   "metadata": {},
   "outputs": [],
   "source": [
    "target = data['污水厂采样点']"
   ]
  },
  {
   "cell_type": "code",
   "execution_count": 52,
   "metadata": {},
   "outputs": [],
   "source": [
    "data1 = data.iloc[:,1:]"
   ]
  },
  {
   "cell_type": "code",
   "execution_count": 53,
   "metadata": {},
   "outputs": [
    {
     "data": {
      "text/html": [
       "<div>\n",
       "<style scoped>\n",
       "    .dataframe tbody tr th:only-of-type {\n",
       "        vertical-align: middle;\n",
       "    }\n",
       "\n",
       "    .dataframe tbody tr th {\n",
       "        vertical-align: top;\n",
       "    }\n",
       "\n",
       "    .dataframe thead th {\n",
       "        text-align: right;\n",
       "    }\n",
       "</style>\n",
       "<table border=\"1\" class=\"dataframe\">\n",
       "  <thead>\n",
       "    <tr style=\"text-align: right;\">\n",
       "      <th></th>\n",
       "      <th>EC50</th>\n",
       "      <th>线虫体长</th>\n",
       "      <th>线虫体宽</th>\n",
       "      <th>线虫体面积</th>\n",
       "      <th>线虫波长</th>\n",
       "      <th>线虫振幅</th>\n",
       "      <th>线虫最大振幅</th>\n",
       "      <th>线虫摆动频率</th>\n",
       "      <th>线虫游动速度</th>\n",
       "      <th>线虫活力</th>\n",
       "      <th>...</th>\n",
       "      <th>120hmarREF0.5</th>\n",
       "      <th>12hSurvivalREF1</th>\n",
       "      <th>72hhatchingREF1</th>\n",
       "      <th>72hmarREF1</th>\n",
       "      <th>120hmarREF1</th>\n",
       "      <th>12hSurvivalREF2</th>\n",
       "      <th>72hhatchingREF2</th>\n",
       "      <th>72hmarREF2</th>\n",
       "      <th>120hmarREF2</th>\n",
       "      <th>常住人口/万人</th>\n",
       "    </tr>\n",
       "  </thead>\n",
       "  <tbody>\n",
       "    <tr>\n",
       "      <th>0</th>\n",
       "      <td>1.9181</td>\n",
       "      <td>0.000000</td>\n",
       "      <td>0.000000</td>\n",
       "      <td>0.000000</td>\n",
       "      <td>0.000000</td>\n",
       "      <td>0.000000</td>\n",
       "      <td>0.000000</td>\n",
       "      <td>0.000000</td>\n",
       "      <td>0.000000</td>\n",
       "      <td>0.000000</td>\n",
       "      <td>...</td>\n",
       "      <td>0.000000</td>\n",
       "      <td>0.000000</td>\n",
       "      <td>0.000000</td>\n",
       "      <td>0.000000</td>\n",
       "      <td>0.000000</td>\n",
       "      <td>0.000000</td>\n",
       "      <td>0.000000</td>\n",
       "      <td>0.000000</td>\n",
       "      <td>0.000000</td>\n",
       "      <td>450.84</td>\n",
       "    </tr>\n",
       "    <tr>\n",
       "      <th>1</th>\n",
       "      <td>4.6181</td>\n",
       "      <td>0.899805</td>\n",
       "      <td>0.824021</td>\n",
       "      <td>0.740105</td>\n",
       "      <td>0.912799</td>\n",
       "      <td>1.030505</td>\n",
       "      <td>0.876283</td>\n",
       "      <td>0.661661</td>\n",
       "      <td>0.496959</td>\n",
       "      <td>0.612963</td>\n",
       "      <td>...</td>\n",
       "      <td>55.555556</td>\n",
       "      <td>75.000000</td>\n",
       "      <td>75.000000</td>\n",
       "      <td>0.000000</td>\n",
       "      <td>77.777778</td>\n",
       "      <td>75.000000</td>\n",
       "      <td>75.000000</td>\n",
       "      <td>0.000000</td>\n",
       "      <td>77.777778</td>\n",
       "      <td>450.84</td>\n",
       "    </tr>\n",
       "    <tr>\n",
       "      <th>2</th>\n",
       "      <td>10.7436</td>\n",
       "      <td>1.207308</td>\n",
       "      <td>1.084289</td>\n",
       "      <td>1.301963</td>\n",
       "      <td>1.295830</td>\n",
       "      <td>1.266427</td>\n",
       "      <td>1.272492</td>\n",
       "      <td>1.250300</td>\n",
       "      <td>1.563044</td>\n",
       "      <td>1.318438</td>\n",
       "      <td>...</td>\n",
       "      <td>0.000000</td>\n",
       "      <td>0.000000</td>\n",
       "      <td>0.000000</td>\n",
       "      <td>0.000000</td>\n",
       "      <td>0.000000</td>\n",
       "      <td>0.000000</td>\n",
       "      <td>0.000000</td>\n",
       "      <td>0.000000</td>\n",
       "      <td>0.000000</td>\n",
       "      <td>450.84</td>\n",
       "    </tr>\n",
       "    <tr>\n",
       "      <th>3</th>\n",
       "      <td>7.0748</td>\n",
       "      <td>0.818521</td>\n",
       "      <td>0.745002</td>\n",
       "      <td>0.613188</td>\n",
       "      <td>0.876049</td>\n",
       "      <td>0.903615</td>\n",
       "      <td>0.801108</td>\n",
       "      <td>1.224091</td>\n",
       "      <td>0.961057</td>\n",
       "      <td>1.072597</td>\n",
       "      <td>...</td>\n",
       "      <td>25.000000</td>\n",
       "      <td>66.666667</td>\n",
       "      <td>66.666667</td>\n",
       "      <td>25.000000</td>\n",
       "      <td>37.500000</td>\n",
       "      <td>58.333333</td>\n",
       "      <td>58.333333</td>\n",
       "      <td>42.857143</td>\n",
       "      <td>71.428571</td>\n",
       "      <td>450.84</td>\n",
       "    </tr>\n",
       "    <tr>\n",
       "      <th>4</th>\n",
       "      <td>48.8919</td>\n",
       "      <td>0.507529</td>\n",
       "      <td>0.500293</td>\n",
       "      <td>0.252857</td>\n",
       "      <td>0.532827</td>\n",
       "      <td>0.461304</td>\n",
       "      <td>0.489353</td>\n",
       "      <td>0.935169</td>\n",
       "      <td>0.366161</td>\n",
       "      <td>0.754509</td>\n",
       "      <td>...</td>\n",
       "      <td>33.333333</td>\n",
       "      <td>66.666667</td>\n",
       "      <td>58.333333</td>\n",
       "      <td>42.857143</td>\n",
       "      <td>71.428571</td>\n",
       "      <td>58.333333</td>\n",
       "      <td>58.333333</td>\n",
       "      <td>42.857143</td>\n",
       "      <td>85.714286</td>\n",
       "      <td>450.84</td>\n",
       "    </tr>\n",
       "    <tr>\n",
       "      <th>5</th>\n",
       "      <td>23.1273</td>\n",
       "      <td>0.742882</td>\n",
       "      <td>0.743757</td>\n",
       "      <td>0.549898</td>\n",
       "      <td>0.715074</td>\n",
       "      <td>0.839056</td>\n",
       "      <td>0.786161</td>\n",
       "      <td>0.739412</td>\n",
       "      <td>0.548909</td>\n",
       "      <td>0.976459</td>\n",
       "      <td>...</td>\n",
       "      <td>50.000000</td>\n",
       "      <td>25.000000</td>\n",
       "      <td>8.333333</td>\n",
       "      <td>0.000000</td>\n",
       "      <td>100.000000</td>\n",
       "      <td>0.000000</td>\n",
       "      <td>0.000000</td>\n",
       "      <td>0.000000</td>\n",
       "      <td>0.000000</td>\n",
       "      <td>450.84</td>\n",
       "    </tr>\n",
       "    <tr>\n",
       "      <th>6</th>\n",
       "      <td>102.5636</td>\n",
       "      <td>0.724591</td>\n",
       "      <td>0.580240</td>\n",
       "      <td>0.421343</td>\n",
       "      <td>0.795646</td>\n",
       "      <td>0.757414</td>\n",
       "      <td>0.660763</td>\n",
       "      <td>0.912868</td>\n",
       "      <td>0.734042</td>\n",
       "      <td>0.832631</td>\n",
       "      <td>...</td>\n",
       "      <td>22.222222</td>\n",
       "      <td>66.666667</td>\n",
       "      <td>66.666667</td>\n",
       "      <td>25.000000</td>\n",
       "      <td>25.000000</td>\n",
       "      <td>58.333333</td>\n",
       "      <td>58.333333</td>\n",
       "      <td>42.857143</td>\n",
       "      <td>71.428571</td>\n",
       "      <td>433.09</td>\n",
       "    </tr>\n",
       "  </tbody>\n",
       "</table>\n",
       "<p>7 rows × 27 columns</p>\n",
       "</div>"
      ],
      "text/plain": [
       "       EC50      线虫体长      线虫体宽     线虫体面积      线虫波长      线虫振幅    线虫最大振幅  \\\n",
       "0    1.9181  0.000000  0.000000  0.000000  0.000000  0.000000  0.000000   \n",
       "1    4.6181  0.899805  0.824021  0.740105  0.912799  1.030505  0.876283   \n",
       "2   10.7436  1.207308  1.084289  1.301963  1.295830  1.266427  1.272492   \n",
       "3    7.0748  0.818521  0.745002  0.613188  0.876049  0.903615  0.801108   \n",
       "4   48.8919  0.507529  0.500293  0.252857  0.532827  0.461304  0.489353   \n",
       "5   23.1273  0.742882  0.743757  0.549898  0.715074  0.839056  0.786161   \n",
       "6  102.5636  0.724591  0.580240  0.421343  0.795646  0.757414  0.660763   \n",
       "\n",
       "     线虫摆动频率   线虫游动速度       线虫活力  ...  120hmarREF0.5  12hSurvivalREF1  \\\n",
       "0  0.000000  0.000000  0.000000  ...       0.000000         0.000000   \n",
       "1  0.661661  0.496959  0.612963  ...      55.555556        75.000000   \n",
       "2  1.250300  1.563044  1.318438  ...       0.000000         0.000000   \n",
       "3  1.224091  0.961057  1.072597  ...      25.000000        66.666667   \n",
       "4  0.935169  0.366161  0.754509  ...      33.333333        66.666667   \n",
       "5  0.739412  0.548909  0.976459  ...      50.000000        25.000000   \n",
       "6  0.912868  0.734042  0.832631  ...      22.222222        66.666667   \n",
       "\n",
       "   72hhatchingREF1  72hmarREF1  120hmarREF1  12hSurvivalREF2  72hhatchingREF2  \\\n",
       "0         0.000000    0.000000     0.000000         0.000000         0.000000   \n",
       "1        75.000000    0.000000    77.777778        75.000000        75.000000   \n",
       "2         0.000000    0.000000     0.000000         0.000000         0.000000   \n",
       "3        66.666667   25.000000    37.500000        58.333333        58.333333   \n",
       "4        58.333333   42.857143    71.428571        58.333333        58.333333   \n",
       "5         8.333333    0.000000   100.000000         0.000000         0.000000   \n",
       "6        66.666667   25.000000    25.000000        58.333333        58.333333   \n",
       "\n",
       "   72hmarREF2  120hmarREF2  常住人口/万人  \n",
       "0    0.000000     0.000000   450.84  \n",
       "1    0.000000    77.777778   450.84  \n",
       "2    0.000000     0.000000   450.84  \n",
       "3   42.857143    71.428571   450.84  \n",
       "4   42.857143    85.714286   450.84  \n",
       "5    0.000000     0.000000   450.84  \n",
       "6   42.857143    71.428571   433.09  \n",
       "\n",
       "[7 rows x 27 columns]"
      ]
     },
     "execution_count": 53,
     "metadata": {},
     "output_type": "execute_result"
    }
   ],
   "source": [
    "data1"
   ]
  },
  {
   "cell_type": "code",
   "execution_count": 54,
   "metadata": {},
   "outputs": [],
   "source": [
    "data = np.array(data1)\n",
    "# data = data.astype(data)"
   ]
  },
  {
   "cell_type": "code",
   "execution_count": 56,
   "metadata": {},
   "outputs": [],
   "source": [
    "# data"
   ]
  },
  {
   "cell_type": "code",
   "execution_count": 57,
   "metadata": {},
   "outputs": [
    {
     "data": {
      "text/plain": [
       "(7,)"
      ]
     },
     "execution_count": 57,
     "metadata": {},
     "output_type": "execute_result"
    }
   ],
   "source": [
    "target.shape"
   ]
  },
  {
   "cell_type": "code",
   "execution_count": 58,
   "metadata": {},
   "outputs": [
    {
     "data": {
      "text/plain": [
       "(7, 27)"
      ]
     },
     "execution_count": 58,
     "metadata": {},
     "output_type": "execute_result"
    }
   ],
   "source": [
    "data.shape"
   ]
  },
  {
   "cell_type": "code",
   "execution_count": 59,
   "metadata": {},
   "outputs": [],
   "source": [
    "import matplotlib.pyplot as plt\n",
    "from sklearn.decomposition import PCA\n",
    "from sklearn.datasets import load_iris\n",
    "from sklearn.manifold import TSNE\n",
    "from sklearn.cluster import KMeans\n",
    "# print type(data1)\n",
    "x = data\n",
    "y = target\n",
    "# print type(x)\n",
    "# print x.shape"
   ]
  },
  {
   "cell_type": "code",
   "execution_count": 60,
   "metadata": {},
   "outputs": [],
   "source": [
    "pca = PCA(n_components=4) "
   ]
  },
  {
   "cell_type": "code",
   "execution_count": 61,
   "metadata": {},
   "outputs": [],
   "source": [
    "reduce_X = pca.fit_transform(x)"
   ]
  },
  {
   "cell_type": "code",
   "execution_count": 62,
   "metadata": {},
   "outputs": [
    {
     "data": {
      "image/png": "[encoded data removed]",
      "text/plain": [
       "<Figure size 640x480 with 1 Axes>"
      ]
     },
     "metadata": {},
     "output_type": "display_data"
    }
   ],
   "source": [
    "# 查看降维后的数据分布\n",
    "plt.scatter(reduce_X[:,0], reduce_X[:,1],c = y)\n",
    "plt.show()"
   ]
  },
  {
   "cell_type": "code",
   "execution_count": null,
   "metadata": {},
   "outputs": [],
   "source": []
  }
 ],
 "metadata": {
  "kernelspec": {
   "display_name": "Python 3",
   "language": "python",
   "name": "python3"
  },
  "language_info": {
   "codemirror_mode": {
    "name": "ipython",
    "version": 3
   },
   "file_extension": ".py",
   "mimetype": "text/x-python",
   "name": "python",
   "nbconvert_exporter": "python",
   "pygments_lexer": "ipython3",
   "version": "3.7.4"
  }
 },
 "nbformat": 4,
 "nbformat_minor": 4
}
